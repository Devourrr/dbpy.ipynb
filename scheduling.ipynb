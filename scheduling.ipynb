{
 "cells": [
  {
   "cell_type": "markdown",
   "metadata": {},
   "source": [
    "# Cron"
   ]
  },
  {
   "cell_type": "markdown",
   "metadata": {},
   "source": [
    "- 유닉스 계열(Linux, Mac OS 등) 운영체제의 시간을 기반으로 한 작업 예약 스케줄러\n",
    "- 주기적으로 고정된 시간, 날짜, 간격에 원하는 프로그램을 실행\n",
    "- 평소에는 실행되지 않고 대기하다가, 특정 시각이 되면 해당 프로그램 실행"
   ]
  },
  {
   "cell_type": "markdown",
   "metadata": {},
   "source": [
    "## 시간 형식"
   ]
  },
  {
   "cell_type": "markdown",
   "metadata": {},
   "source": [
    "- Minute (0 ~ 59): 분\n",
    "- Hour (0 ~ 23): 시간\n",
    "- Day (1 ~ 31): 일\n",
    "- Month (1 ~ 12): 월\n",
    "- Week (0 ~ 6): 요일 (0 은 일요일)"
   ]
  },
  {
   "cell_type": "markdown",
   "metadata": {},
   "source": [
    "**작성 예시**\n",
    "\n",
    "> 0 14 1 1 3  \n",
    "> 1월 1일 수요일 14시 정각에 실행"
   ]
  },
  {
   "cell_type": "markdown",
   "metadata": {},
   "source": [
    "- 일정 간격의 모든 시간을 지정할 경우: 별표(*) 사용\n",
    "    > 30 * * * *  \n",
    "    > 매시간 30분마다 실행  \n",
    "    \n",
    "    > 0 0 * * *\n",
    "    > 매일 0시 0분마다 실행\n",
    "\n",
    "- 일정 시간 간격을 반복하도록 지정할 경우: 콤마(,) 사용\n",
    "    > 10,20,30 * * * *  \n",
    "    > 매시간 10분, 20분, 30분에 실행\n",
    "\n",
    "- 시간 범위를 지정할 경우: 하이픈(-) 사용\n",
    "    > 30 13-15 * * *  \n",
    "    > 13시 30분, 14시 30분, 15시 30분에 실행\n",
    "\n",
    "- 시간 간격을 지정할 경우: 슬래시(/) 사용\n",
    "    > 0-30/5 * * * *  \n",
    "    > 매시간 0분부터 30분까지 5분 간격으로 실행"
   ]
  },
  {
   "cell_type": "markdown",
   "metadata": {},
   "source": [
    "## 사용법"
   ]
  },
  {
   "cell_type": "markdown",
   "metadata": {},
   "source": [
    "**UNIX 계열 운영체제**\n",
    "\n",
    "- 별도의 설치 없이 터미널 창에서 사용 가능\n",
    "- 명령어\n",
    "    * crontab -e (cron 설정 파일 편집)\n",
    "    * crontab -l (예약된 작업 목록 보기)\n",
    "    * crontab -r (예약된 작업 삭제)\n",
    "- 설정 파일 작성법\n",
    "    * 작업 스케줄 설정 + 실행할 명령어\n",
    "    > 10 * * * * python test.py  \n",
    "    > 매 10분마다 test.py 파이썬 파일 실행"
   ]
  },
  {
   "cell_type": "markdown",
   "metadata": {},
   "source": [
    "**Windows 계열 운영체제**\n",
    "\n",
    "- 별도의 Cron 프로그램 설치 필요\n",
    "    * nncron, wincron, ...\n",
    "- Windows 용 프로그램으로 대체\n",
    "    * 작업 스케줄러"
   ]
  },
  {
   "cell_type": "markdown",
   "metadata": {},
   "source": [
    "# Schedule 모듈"
   ]
  },
  {
   "cell_type": "markdown",
   "metadata": {},
   "source": [
    "- 작업 예약 모듈\n",
    "- 실행할 코드를 함수로 만들어 호출하는 방식\n",
    "- 명령어가 직관적이며, 간단한 스케줄을 적용하기에 적합함\n",
    "- 복잡한 스케줄은 작성하기 어려움\n",
    "- 설치\n",
    "    * pip install schedule"
   ]
  },
  {
   "cell_type": "code",
   "execution_count": 1,
   "metadata": {},
   "outputs": [
    {
     "name": "stdout",
     "output_type": "stream",
     "text": [
      "Collecting schedule\n",
      "  Downloading schedule-1.1.0-py2.py3-none-any.whl (10 kB)\n",
      "Installing collected packages: schedule\n",
      "Successfully installed schedule-1.1.0\n"
     ]
    }
   ],
   "source": [
    "!pip install schedule"
   ]
  },
  {
   "cell_type": "markdown",
   "metadata": {},
   "source": [
    "## 사용법"
   ]
  },
  {
   "cell_type": "markdown",
   "metadata": {},
   "source": [
    "**스케줄 조합 방법**\n",
    "\n",
    "1. every(): 매번 반복\n",
    "\n",
    "2. 주기\n",
    "    - seconds\n",
    "    - minutes\n",
    "    - hour\n",
    "    - day\n",
    "    - Monday ~ Sunday\n",
    "\n",
    "3. at(): 특정 시각"
   ]
  },
  {
   "cell_type": "markdown",
   "metadata": {},
   "source": [
    "**유의점**\n",
    "\n",
    "- 스케줄 작성 후 run_pending() 함수로 시작\n",
    "- 반복문으로 꾸준히 스케줄을 유지\n",
    "- 항상 실행 중이어야 함"
   ]
  },
  {
   "cell_type": "markdown",
   "metadata": {},
   "source": [
    "**스케줄 구현 예시**"
   ]
  },
  {
   "cell_type": "code",
   "execution_count": 1,
   "metadata": {
    "collapsed": true
   },
   "outputs": [
    {
     "name": "stdout",
     "output_type": "stream",
     "text": [
      "1622528333.3568332 ('매 5초마다 job 함수 실행',)\n",
      "1622528338.3604207 ('매 5초마다 job 함수 실행',)\n",
      "1622528343.3637671 ('매 5초마다 job 함수 실행',)\n",
      "1622528348.3657413 ('매 5초마다 job 함수 실행',)\n",
      "1622528353.3676891 ('매 5초마다 job 함수 실행',)\n",
      "1622528358.3712785 ('매 5초마다 job 함수 실행',)\n",
      "1622528363.3738184 ('매 5초마다 job 함수 실행',)\n",
      "1622528368.375451 ('매 5초마다 job 함수 실행',)\n",
      "1622528373.3786516 ('매 5초마다 job 함수 실행',)\n"
     ]
    },
    {
     "ename": "KeyboardInterrupt",
     "evalue": "",
     "output_type": "error",
     "traceback": [
      "\u001b[1;31m---------------------------------------------------------------------------\u001b[0m",
      "\u001b[1;31mKeyboardInterrupt\u001b[0m                         Traceback (most recent call last)",
      "\u001b[1;32m<ipython-input-1-e4d232f5f3ca>\u001b[0m in \u001b[0;36m<module>\u001b[1;34m\u001b[0m\n\u001b[0;32m     14\u001b[0m \u001b[1;32mwhile\u001b[0m \u001b[1;32mTrue\u001b[0m\u001b[1;33m:\u001b[0m\u001b[1;33m\u001b[0m\u001b[1;33m\u001b[0m\u001b[0m\n\u001b[0;32m     15\u001b[0m     \u001b[0mschedule\u001b[0m\u001b[1;33m.\u001b[0m\u001b[0mrun_pending\u001b[0m\u001b[1;33m(\u001b[0m\u001b[1;33m)\u001b[0m\u001b[1;33m\u001b[0m\u001b[1;33m\u001b[0m\u001b[0m\n\u001b[1;32m---> 16\u001b[1;33m     \u001b[0mtime\u001b[0m\u001b[1;33m.\u001b[0m\u001b[0msleep\u001b[0m\u001b[1;33m(\u001b[0m\u001b[1;36m1\u001b[0m\u001b[1;33m)\u001b[0m\u001b[1;33m\u001b[0m\u001b[1;33m\u001b[0m\u001b[0m\n\u001b[0m",
      "\u001b[1;31mKeyboardInterrupt\u001b[0m: "
     ]
    }
   ],
   "source": [
    "import schedule     # pip install schedule\n",
    "import time\n",
    "\n",
    "def job(*args):\n",
    "    print(time.time(), args)\n",
    "\n",
    "schedule.every(5).seconds.do(job, '매 5초마다 job 함수 실행')\n",
    "schedule.every(10).minutes.do(job, '매 10분마다 job 함수 실행')\n",
    "schedule.every().hours.do(job, '매 시간마다 job 함수 실행')\n",
    "schedule.every().days.at(\"09:30\").do(job, '매일 09시 30분에 job 함수 실행')\n",
    "schedule.every().monday.do(job, '매주 월요일마다 job 함수 실행')\n",
    "schedule.every().friday.at(\"18:00\").do(job, '매주 금요일 18시 정각에 job 함수 실행')\n",
    "\n",
    "while True:\n",
    "    schedule.run_pending()\n",
    "    time.sleep(1)\n"
   ]
  },
  {
   "cell_type": "code",
   "execution_count": null,
   "metadata": {},
   "outputs": [],
   "source": []
  }
 ],
 "metadata": {
  "kernelspec": {
   "display_name": "Python 3",
   "language": "python",
   "name": "python3"
  },
  "language_info": {
   "codemirror_mode": {
    "name": "ipython",
    "version": 3
   },
   "file_extension": ".py",
   "mimetype": "text/x-python",
   "name": "python",
   "nbconvert_exporter": "python",
   "pygments_lexer": "ipython3",
   "version": "3.8.5"
  }
 },
 "nbformat": 4,
 "nbformat_minor": 4
}
