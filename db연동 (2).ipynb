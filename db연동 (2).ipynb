{
 "cells": [
  {
   "cell_type": "markdown",
   "metadata": {},
   "source": [
    "### Oracle - cx_Oracle"
   ]
  },
  {
   "cell_type": "markdown",
   "metadata": {},
   "source": [
    "#### 1. Connecting to Oracle"
   ]
  },
  {
   "cell_type": "code",
   "execution_count": 1,
   "metadata": {},
   "outputs": [
    {
     "name": "stdout",
     "output_type": "stream",
     "text": [
      "Requirement already satisfied: cx_oracle in c:\\users\\user01\\anaconda3\\lib\\site-packages (8.1.0)\n"
     ]
    }
   ],
   "source": [
    "!pip install cx_oracle"
   ]
  },
  {
   "cell_type": "code",
   "execution_count": 2,
   "metadata": {},
   "outputs": [
    {
     "name": "stdout",
     "output_type": "stream",
     "text": [
      "(10, 'ACCOUNTING', 'NEW YORK')\n",
      "(20, 'RESEARCH', 'DALLAS')\n",
      "(30, 'SALES', 'CHICAGO')\n",
      "(40, 'OPERATIONS', 'BOSTON')\n"
     ]
    }
   ],
   "source": [
    "'''\n",
    "https://oracle.github.io/python-cx_Oracle\n",
    "https://oracle.github.io/python-cx_Oracle/samples/tutorial/Python-and-Oracle-Database-Scripting-for-the-Future.html\n",
    "'''\n",
    "\n",
    "import cx_Oracle    # pip install cx_oracle\n",
    "\n",
    "# 오라클 서비스 시작 후 실행\n",
    "con = cx_Oracle.connect(user='scott', password='tiger', dsn='localhost:1522/orcl')\n",
    "\n",
    "cur = con.cursor()   # SQL 수행 결과를 담을 메모리 공간\n",
    "cur.execute(\"\"\"\n",
    "            SELECT *\n",
    "            FROM DEPT\n",
    "        \"\"\")\n",
    "res = cur.fetchall()  # 커서에 담긴 내용을 모두 꺼내옴\n",
    "for row in res:\n",
    "    print(row)\n"
   ]
  },
  {
   "cell_type": "markdown",
   "metadata": {},
   "source": [
    "#### 2. Connection Pooling"
   ]
  },
  {
   "cell_type": "code",
   "execution_count": 3,
   "metadata": {},
   "outputs": [
    {
     "name": "stdout",
     "output_type": "stream",
     "text": [
      "ThreadThread #1 fetched sequence = 0\n",
      " #2 fetched sequence = 0\n",
      "Thread #2 fetched sequence = 1\n",
      "Thread #2 fetched sequence = 2\n",
      "Thread #2 fetched sequence = 3\n",
      "Thread #1 fetched sequence = 1\n",
      "Thread #1 fetched sequence = 2\n",
      "Thread #1 fetched sequence = 3\n",
      "All done!\n"
     ]
    }
   ],
   "source": [
    "'''\n",
    "https://oracle.github.io/python-cx_Oracle\n",
    "https://oracle.github.io/python-cx_Oracle/samples/tutorial/Python-and-Oracle-Database-Scripting-for-the-Future.html\n",
    "'''\n",
    "\n",
    "import cx_Oracle    # pip install cx_oracle\n",
    "import threading\n",
    "\n",
    "\n",
    "pool = cx_Oracle.SessionPool('scott', 'tiger', 'localhost:1522/orcl',\n",
    "                             min = 2, max = 5, increment = 1, threaded = True,\n",
    "                             getmode = cx_Oracle.SPOOL_ATTRVAL_WAIT)\n",
    "\n",
    "\n",
    "def Query():\n",
    "    con = pool.acquire()\n",
    "    cur = con.cursor()\n",
    "    for i in range(4):\n",
    "        cur.execute(f\"\"\"\n",
    "                    SELECT {i}\n",
    "                      FROM DUAL\n",
    "                \"\"\")\n",
    "                \n",
    "        seqval, = cur.fetchone()\n",
    "        print(\"Thread\",\n",
    "              threading.current_thread().name,\n",
    "              \"fetched sequence =\", seqval)\n",
    "\n",
    "\n",
    "thread1 = threading.Thread(name='#1', target=Query)\n",
    "thread1.start()\n",
    "\n",
    "thread2 = threading.Thread(name='#2', target=Query)\n",
    "thread2.start()\n",
    "\n",
    "thread1.join()\n",
    "thread2.join()\n",
    "\n",
    "print(\"All done!\")\n"
   ]
  },
  {
   "cell_type": "markdown",
   "metadata": {},
   "source": [
    "#### 스레딩 연습"
   ]
  },
  {
   "cell_type": "code",
   "execution_count": 4,
   "metadata": {},
   "outputs": [
    {
     "name": "stdout",
     "output_type": "stream",
     "text": [
      "Start\n",
      "working:0\n",
      "\n",
      "working:1\n",
      "\n",
      "working:2\n",
      "\n",
      "working:3\n",
      "\n",
      "working:4\n",
      "\n",
      "working:0\n",
      "\n",
      "working:1\n",
      "\n",
      "working:2\n",
      "\n",
      "working:3\n",
      "\n",
      "working:4\n",
      "\n",
      "working:0\n",
      "\n",
      "working:1\n",
      "\n",
      "working:2\n",
      "\n",
      "working:3\n",
      "\n",
      "working:4\n",
      "\n",
      "working:0\n",
      "\n",
      "working:1\n",
      "\n",
      "working:2\n",
      "\n",
      "working:3\n",
      "\n",
      "working:4\n",
      "\n",
      "working:0\n",
      "\n",
      "working:1\n",
      "\n",
      "working:2\n",
      "\n",
      "working:3\n",
      "\n",
      "working:4\n",
      "\n",
      "End\n"
     ]
    }
   ],
   "source": [
    "# thread_test.py\n",
    "import time\n",
    "\n",
    "def long_task():  # 5초의 시간이 걸리는 함수\n",
    "    for i in range(5):\n",
    "        time.sleep(1)  # 1초간 대기한다.\n",
    "        print(\"working:%s\\n\" % i)\n",
    "\n",
    "print(\"Start\")\n",
    "\n",
    "for i in range(5):  # long_task를 5회 수행한다.\n",
    "    long_task()\n",
    "\n",
    "print(\"End\")"
   ]
  },
  {
   "cell_type": "code",
   "execution_count": 6,
   "metadata": {},
   "outputs": [
    {
     "name": "stdout",
     "output_type": "stream",
     "text": [
      "Start\n",
      "working:0\n",
      "\n",
      "working:0\n",
      "working:0\n",
      "\n",
      "\n",
      "working:0\n",
      "\n",
      "working:0\n",
      "\n",
      "working:1\n",
      "\n",
      "working:1\n",
      "\n",
      "working:1\n",
      "working:1\n",
      "\n",
      "\n",
      "working:1\n",
      "\n",
      "working:2\n",
      "\n",
      "working:2\n",
      "\n",
      "working:2\n",
      "working:2\n",
      "\n",
      "\n",
      "working:2\n",
      "\n",
      "working:3\n",
      "\n",
      "working:3\n",
      "working:3\n",
      "\n",
      "working:3\n",
      "\n",
      "\n",
      "working:3\n",
      "\n",
      "working:4\n",
      "\n",
      "working:4\n",
      "\n",
      "working:4\n",
      "working:4\n",
      "\n",
      "\n",
      "working:4\n",
      "\n",
      "End\n"
     ]
    }
   ],
   "source": [
    "import time\n",
    "import threading  # 스레드를 생성하기 위해서는 threading 모듈이 필요하다.\n",
    "\n",
    "def long_task():\n",
    "    for i in range(5):\n",
    "        time.sleep(1)\n",
    "        print(\"working:%s\\n\" % i)\n",
    "\n",
    "print(\"Start\")\n",
    "\n",
    "threads = []\n",
    "for i in range(5):\n",
    "    t = threading.Thread(target=long_task)  # 스레드를 생성한다.\n",
    "    threads.append(t) \n",
    "\n",
    "for t in threads:\n",
    "    t.start()  # 스레드를 실행한다.\n",
    "\n",
    "for t in threads:\n",
    "    t.join()  # join으로 스레드가 종료될때까지 기다린다.\n",
    "    \n",
    "print(\"End\")"
   ]
  },
  {
   "cell_type": "markdown",
   "metadata": {},
   "source": [
    "#### 3. Fetching Data"
   ]
  },
  {
   "cell_type": "markdown",
   "metadata": {},
   "source": [
    "##### 3.1 A simple query"
   ]
  },
  {
   "cell_type": "code",
   "execution_count": 7,
   "metadata": {
    "scrolled": true
   },
   "outputs": [
    {
     "name": "stdout",
     "output_type": "stream",
     "text": [
      "Department number:  10\n",
      "Department name:  ACCOUNTING\n",
      "Department location: NEW YORK\n",
      "\n",
      "Department number:  20\n",
      "Department name:  RESEARCH\n",
      "Department location: DALLAS\n",
      "\n",
      "Department number:  30\n",
      "Department name:  SALES\n",
      "Department location: CHICAGO\n",
      "\n",
      "Department number:  40\n",
      "Department name:  OPERATIONS\n",
      "Department location: BOSTON\n",
      "\n"
     ]
    }
   ],
   "source": [
    "'''\n",
    "https://oracle.github.io/python-cx_Oracle\n",
    "https://oracle.github.io/python-cx_Oracle/samples/tutorial/Python-and-Oracle-Database-Scripting-for-the-Future.html\n",
    "'''\n",
    "\n",
    "import cx_Oracle    # pip install cx_oracle\n",
    "import threading\n",
    "\n",
    "\n",
    "pool = cx_Oracle.SessionPool('scott', 'tiger', 'localhost:1522/orcl',\n",
    "                             min = 2, max = 5, increment = 1, threaded = True,\n",
    "                             getmode = cx_Oracle.SPOOL_ATTRVAL_WAIT)\n",
    "\n",
    "\n",
    "con = pool.acquire()\n",
    "cur = con.cursor()\n",
    "\n",
    "cur.execute(\"\"\"\n",
    "            SELECT *\n",
    "              FROM DEPT\n",
    "            ORDER BY DEPTNO\n",
    "        \"\"\")\n",
    "\n",
    "for deptno, dname, loc in cur:\n",
    "    print(\"Department number: \", deptno)\n",
    "    print(\"Department name: \", dname)\n",
    "    print(\"Department location:\", loc)\n",
    "    print()\n"
   ]
  },
  {
   "cell_type": "markdown",
   "metadata": {},
   "source": [
    "##### 3.2 Using fetchone()"
   ]
  },
  {
   "cell_type": "code",
   "execution_count": 8,
   "metadata": {},
   "outputs": [
    {
     "name": "stdout",
     "output_type": "stream",
     "text": [
      "(10, 'ACCOUNTING', 'NEW YORK')\n",
      "(20, 'RESEARCH', 'DALLAS')\n"
     ]
    }
   ],
   "source": [
    "'''\n",
    "https://oracle.github.io/python-cx_Oracle\n",
    "https://oracle.github.io/python-cx_Oracle/samples/tutorial/Python-and-Oracle-Database-Scripting-for-the-Future.html\n",
    "'''\n",
    "\n",
    "import cx_Oracle    # pip install cx_oracle\n",
    "import threading\n",
    "\n",
    "\n",
    "pool = cx_Oracle.SessionPool('scott', 'tiger', 'localhost:1522/orcl',\n",
    "                             min = 2, max = 5, increment = 1, threaded = True,\n",
    "                             getmode = cx_Oracle.SPOOL_ATTRVAL_WAIT)\n",
    "\n",
    "\n",
    "con = pool.acquire()\n",
    "cur = con.cursor()\n",
    "\n",
    "cur.execute(\"\"\"\n",
    "            SELECT *\n",
    "              FROM DEPT\n",
    "            ORDER BY DEPTNO\n",
    "        \"\"\")\n",
    "\n",
    "row = cur.fetchone()\n",
    "print(row)\n",
    "\n",
    "row = cur.fetchone()\n",
    "print(row)\n"
   ]
  },
  {
   "cell_type": "markdown",
   "metadata": {},
   "source": [
    "##### 3.3 Using fetchmany()"
   ]
  },
  {
   "cell_type": "code",
   "execution_count": 10,
   "metadata": {
    "scrolled": true
   },
   "outputs": [
    {
     "name": "stdout",
     "output_type": "stream",
     "text": [
      "[(10, 'ACCOUNTING', 'NEW YORK'), (20, 'RESEARCH', 'DALLAS'), (30, 'SALES', 'CHICAGO')]\n",
      "\n",
      "(10, 'ACCOUNTING', 'NEW YORK')\n",
      "\n",
      "ACCOUNTING\n"
     ]
    }
   ],
   "source": [
    "'''\n",
    "https://oracle.github.io/python-cx_Oracle\n",
    "https://oracle.github.io/python-cx_Oracle/samples/tutorial/Python-and-Oracle-Database-Scripting-for-the-Future.html\n",
    "'''\n",
    "\n",
    "import cx_Oracle    # pip install cx_oracle\n",
    "import threading\n",
    "\n",
    "\n",
    "pool = cx_Oracle.SessionPool('scott', 'tiger', 'localhost:1522/orcl',\n",
    "                             min = 2, max = 5, increment = 1, threaded = True,\n",
    "                             getmode = cx_Oracle.SPOOL_ATTRVAL_WAIT)\n",
    "\n",
    "\n",
    "con = pool.acquire()\n",
    "cur = con.cursor()\n",
    "\n",
    "cur.execute(\"\"\"\n",
    "            SELECT *\n",
    "              FROM DEPT\n",
    "            ORDER BY DEPTNO\n",
    "        \"\"\")\n",
    "\n",
    "res = cur.fetchmany(numRows = 3)\n",
    "print(res)\n",
    "print()\n",
    "print(res[0])    # first row\n",
    "print()\n",
    "print(res[0][1]) # second element of first row\n"
   ]
  },
  {
   "cell_type": "markdown",
   "metadata": {},
   "source": [
    "#### 4. Binding Data"
   ]
  },
  {
   "cell_type": "markdown",
   "metadata": {},
   "source": [
    "##### 4.1 Binding in queries"
   ]
  },
  {
   "cell_type": "code",
   "execution_count": 12,
   "metadata": {},
   "outputs": [
    {
     "name": "stdout",
     "output_type": "stream",
     "text": [
      "[(20, 'RESEARCH', 'DALLAS')]\n",
      "[(10, 'ACCOUNTING', 'NEW YORK')]\n"
     ]
    }
   ],
   "source": [
    "'''\n",
    "https://oracle.github.io/python-cx_Oracle\n",
    "https://oracle.github.io/python-cx_Oracle/samples/tutorial/Python-and-Oracle-Database-Scripting-for-the-Future.html\n",
    "'''\n",
    "\n",
    "import cx_Oracle    # pip install cx_oracle\n",
    "import threading\n",
    "\n",
    "\n",
    "pool = cx_Oracle.SessionPool('scott', 'tiger', 'localhost:1522/orcl',\n",
    "                             min = 2, max = 5, increment = 1, threaded = True,\n",
    "                             getmode = cx_Oracle.SPOOL_ATTRVAL_WAIT)\n",
    "\n",
    "\n",
    "con = pool.acquire()\n",
    "cur = con.cursor()\n",
    "\n",
    "sql = \"\"\"\n",
    "    SELECT *\n",
    "      FROM DEPT\n",
    "     WHERE DEPTNO = :id\n",
    "    ORDER BY DEPTNO\n",
    "\"\"\"\n",
    "\n",
    "cur.execute(sql, id = 20)\n",
    "res = cur.fetchall()\n",
    "print(res)\n",
    "\n",
    "cur.execute(sql, id = 10)\n",
    "res = cur.fetchall()\n",
    "print(res)\n"
   ]
  },
  {
   "cell_type": "markdown",
   "metadata": {},
   "source": [
    "##### 4.2 Binding in inserts"
   ]
  },
  {
   "cell_type": "code",
   "execution_count": 13,
   "metadata": {},
   "outputs": [
    {
     "name": "stdout",
     "output_type": "stream",
     "text": [
      "[(1, 'First'), (2, 'Second'), (3, 'Third'), (4, 'Fourth'), (5, 'Fifth'), (6, 'Sixth'), (7, 'Seventh')]\n"
     ]
    }
   ],
   "source": [
    "'''\n",
    "https://oracle.github.io/python-cx_Oracle\n",
    "https://oracle.github.io/python-cx_Oracle/samples/tutorial/Python-and-Oracle-Database-Scripting-for-the-Future.html\n",
    "'''\n",
    "\n",
    "import cx_Oracle    # pip install cx_oracle\n",
    "import threading\n",
    "\n",
    "\n",
    "pool = cx_Oracle.SessionPool('scott', 'tiger', 'localhost:1522/orcl',\n",
    "                             min = 2, max = 5, increment = 1, threaded = True,\n",
    "                             getmode = cx_Oracle.SPOOL_ATTRVAL_WAIT)\n",
    "\n",
    "\n",
    "con = pool.acquire()\n",
    "cur = con.cursor()\n",
    "\n",
    "# Create temporary table\n",
    "cur.execute(\"DROP TABLE MYTAB\")\n",
    "cur.execute(\"CREATE TABLE MYTAB (ID NUMBER, DATA VARCHAR2(100) UNIQUE)\")\n",
    "\n",
    "rows = [ (1, \"First\" ),\n",
    "         (2, \"Second\" ),\n",
    "         (3, \"Third\" ),\n",
    "         (4, \"Fourth\" ),\n",
    "         (5, \"Fifth\" ),\n",
    "         (6, \"Sixth\" ),\n",
    "         (7, \"Seventh\" ) ]\n",
    "\n",
    "# Insert data\n",
    "cur.executemany(\"\"\"\n",
    "                INSERT INTO MYTAB (id, data)\n",
    "                           VALUES (:1, :2)\n",
    "                \"\"\"\n",
    "                , rows)\n",
    "\n",
    "# con.commit()\n",
    "# con.rollback()\n",
    "\n",
    "# Now query the results back\n",
    "cur.execute(\"SELECT * FROM MYTAB\")\n",
    "res = cur.fetchall()\n",
    "print(res)\n"
   ]
  },
  {
   "cell_type": "markdown",
   "metadata": {},
   "source": [
    "##### 4.3 Batcherrors"
   ]
  },
  {
   "cell_type": "code",
   "execution_count": 14,
   "metadata": {},
   "outputs": [
    {
     "name": "stdout",
     "output_type": "stream",
     "text": [
      "Error ORA-00001: 무결성 제약 조건(SCOTT.SYS_C0011161)에 위배됩니다 at row offset 4\n",
      "[(1, 'First'), (2, 'Second'), (3, 'Third'), (4, 'Fourth'), (6, 'Sixth'), (7, 'Seventh')]\n"
     ]
    }
   ],
   "source": [
    "'''\n",
    "https://oracle.github.io/python-cx_Oracle\n",
    "https://oracle.github.io/python-cx_Oracle/samples/tutorial/Python-and-Oracle-Database-Scripting-for-the-Future.html\n",
    "'''\n",
    "\n",
    "import cx_Oracle    # pip install cx_oracle\n",
    "import threading\n",
    "\n",
    "\n",
    "pool = cx_Oracle.SessionPool('scott', 'tiger', 'localhost:1522/orcl',\n",
    "                             min = 2, max = 5, increment = 1, threaded = True,\n",
    "                             getmode = cx_Oracle.SPOOL_ATTRVAL_WAIT)\n",
    "\n",
    "\n",
    "con = pool.acquire()\n",
    "cur = con.cursor()\n",
    "\n",
    "# Create temporary table\n",
    "cur.execute(\"DROP TABLE MYTAB\")\n",
    "cur.execute(\"CREATE TABLE MYTAB (ID NUMBER, DATA VARCHAR2(100) UNIQUE)\")\n",
    "\n",
    "rows = [ (1, \"First\" ), (2, \"Second\" ),\n",
    "         (3, \"Third\" ), (4, \"Fourth\" ),\n",
    "         (5, \"Third\" ), (6, \"Sixth\" ),\n",
    "         (7, \"Seventh\" ) ]\n",
    "\n",
    "# Insert data\n",
    "cur.executemany(\"\"\"\n",
    "                INSERT INTO MYTAB (id, data)\n",
    "                           VALUES (:1, :2)\n",
    "                \"\"\"\n",
    "                , rows\n",
    "                , batcherrors=True)\n",
    "\n",
    "for error in cur.getbatcherrors():\n",
    "    print(\"Error\", error.message.rstrip(), \"at row offset\", error.offset)\n",
    "\n",
    "# con.commit()\n",
    "# con.rollback()\n",
    "\n",
    "# Now query the results back\n",
    "cur.execute(\"SELECT * FROM MYTAB\")\n",
    "res = cur.fetchall()\n",
    "print(res)\n"
   ]
  },
  {
   "cell_type": "markdown",
   "metadata": {},
   "source": [
    "#### DB - Pandas 연동"
   ]
  },
  {
   "cell_type": "code",
   "execution_count": 16,
   "metadata": {},
   "outputs": [
    {
     "name": "stdout",
     "output_type": "stream",
     "text": [
      "[(1, 'First'), (2, 'Second'), (3, 'Third'), (4, 'Fourth'), (5, 'Fifth'), (6, 'Sixth'), (7, 'Seventh')]\n"
     ]
    },
    {
     "data": {
      "text/html": [
       "<div>\n",
       "<style scoped>\n",
       "    .dataframe tbody tr th:only-of-type {\n",
       "        vertical-align: middle;\n",
       "    }\n",
       "\n",
       "    .dataframe tbody tr th {\n",
       "        vertical-align: top;\n",
       "    }\n",
       "\n",
       "    .dataframe thead th {\n",
       "        text-align: right;\n",
       "    }\n",
       "</style>\n",
       "<table border=\"1\" class=\"dataframe\">\n",
       "  <thead>\n",
       "    <tr style=\"text-align: right;\">\n",
       "      <th></th>\n",
       "      <th>ID</th>\n",
       "      <th>DATA</th>\n",
       "    </tr>\n",
       "  </thead>\n",
       "  <tbody>\n",
       "    <tr>\n",
       "      <th>0</th>\n",
       "      <td>1</td>\n",
       "      <td>First</td>\n",
       "    </tr>\n",
       "    <tr>\n",
       "      <th>1</th>\n",
       "      <td>2</td>\n",
       "      <td>Second</td>\n",
       "    </tr>\n",
       "    <tr>\n",
       "      <th>2</th>\n",
       "      <td>3</td>\n",
       "      <td>Third</td>\n",
       "    </tr>\n",
       "    <tr>\n",
       "      <th>3</th>\n",
       "      <td>4</td>\n",
       "      <td>Fourth</td>\n",
       "    </tr>\n",
       "    <tr>\n",
       "      <th>4</th>\n",
       "      <td>5</td>\n",
       "      <td>Fifth</td>\n",
       "    </tr>\n",
       "    <tr>\n",
       "      <th>5</th>\n",
       "      <td>6</td>\n",
       "      <td>Sixth</td>\n",
       "    </tr>\n",
       "    <tr>\n",
       "      <th>6</th>\n",
       "      <td>7</td>\n",
       "      <td>Seventh</td>\n",
       "    </tr>\n",
       "  </tbody>\n",
       "</table>\n",
       "</div>"
      ],
      "text/plain": [
       "   ID     DATA\n",
       "0   1    First\n",
       "1   2   Second\n",
       "2   3    Third\n",
       "3   4   Fourth\n",
       "4   5    Fifth\n",
       "5   6    Sixth\n",
       "6   7  Seventh"
      ]
     },
     "execution_count": 16,
     "metadata": {},
     "output_type": "execute_result"
    }
   ],
   "source": [
    "'''\n",
    "https://oracle.github.io/python-cx_Oracle\n",
    "https://oracle.github.io/python-cx_Oracle/samples/tutorial/Python-and-Oracle-Database-Scripting-for-the-Future.html\n",
    "'''\n",
    "\n",
    "import cx_Oracle    # pip install cx_oracle\n",
    "import threading\n",
    "import pandas as pd\n",
    "\n",
    "\n",
    "pool = cx_Oracle.SessionPool('scott', 'tiger', 'localhost:1522/orcl',\n",
    "                             min = 2, max = 5, increment = 1, threaded = True,\n",
    "                             getmode = cx_Oracle.SPOOL_ATTRVAL_WAIT)\n",
    "\n",
    "\n",
    "con = pool.acquire()\n",
    "cur = con.cursor()\n",
    "\n",
    "# Create temporary table\n",
    "cur.execute(\"DROP TABLE MYTAB\")\n",
    "cur.execute(\"CREATE TABLE MYTAB (ID NUMBER, DATA VARCHAR2(100) UNIQUE)\")\n",
    "\n",
    "rows = [ (1, \"First\" ), (2, \"Second\" ),\n",
    "         (3, \"Third\" ), (4, \"Fourth\" ),\n",
    "         (5, \"Fifth\" ), (6, \"Sixth\" ),\n",
    "         (7, \"Seventh\" ) ]\n",
    "\n",
    "# Insert data\n",
    "cur.executemany(\"\"\"\n",
    "                INSERT INTO MYTAB (id, data)\n",
    "                           VALUES (:1, :2)\n",
    "                \"\"\"\n",
    "                , rows)\n",
    "\n",
    "# con.commit()\n",
    "# con.rollback()\n",
    "\n",
    "# Now query the results back\n",
    "cur.execute(\"SELECT * FROM MYTAB\")\n",
    "res = cur.fetchall()\n",
    "print(res)\n",
    "\n",
    "df = pd.read_sql(\"SELECT * FROM MYTAB\", con)\n",
    "df\n"
   ]
  },
  {
   "cell_type": "markdown",
   "metadata": {},
   "source": [
    "### SQLite"
   ]
  },
  {
   "cell_type": "markdown",
   "metadata": {},
   "source": [
    "- https://docs.python.org/ko/3/library/sqlite3.html\n",
    "- https://wikidocs.net/book/1530"
   ]
  },
  {
   "cell_type": "markdown",
   "metadata": {},
   "source": [
    "#### 1. Connection"
   ]
  },
  {
   "cell_type": "code",
   "execution_count": 1,
   "metadata": {},
   "outputs": [],
   "source": [
    "'''\n",
    "https://docs.python.org/ko/3/library/sqlite3.html\n",
    "'''\n",
    "\n",
    "import sqlite3\n",
    "\n",
    "\n",
    "con = sqlite3.connect('example.db')\n"
   ]
  },
  {
   "cell_type": "markdown",
   "metadata": {},
   "source": [
    "#### 2. Data"
   ]
  },
  {
   "cell_type": "code",
   "execution_count": 3,
   "metadata": {
    "collapsed": true
   },
   "outputs": [
    {
     "ename": "OperationalError",
     "evalue": "table STOCKS already exists",
     "output_type": "error",
     "traceback": [
      "\u001b[1;31m---------------------------------------------------------------------------\u001b[0m",
      "\u001b[1;31mOperationalError\u001b[0m                          Traceback (most recent call last)",
      "\u001b[1;32m<ipython-input-3-79a5b0afd7ac>\u001b[0m in \u001b[0;36m<module>\u001b[1;34m\u001b[0m\n\u001b[0;32m     10\u001b[0m \u001b[1;33m\u001b[0m\u001b[0m\n\u001b[0;32m     11\u001b[0m \u001b[1;31m# Create table\u001b[0m\u001b[1;33m\u001b[0m\u001b[1;33m\u001b[0m\u001b[1;33m\u001b[0m\u001b[0m\n\u001b[1;32m---> 12\u001b[1;33m cur.execute('''CREATE TABLE STOCKS\n\u001b[0m\u001b[0;32m     13\u001b[0m                (DATE TEXT, TRANS TEXT, SYMBOL TEXT, QTY REAL, PRICE REAL)''')\n\u001b[0;32m     14\u001b[0m \u001b[1;33m\u001b[0m\u001b[0m\n",
      "\u001b[1;31mOperationalError\u001b[0m: table STOCKS already exists"
     ]
    }
   ],
   "source": [
    "'''\n",
    "https://docs.python.org/ko/3/library/sqlite3.html\n",
    "'''\n",
    "\n",
    "import sqlite3\n",
    "\n",
    "\n",
    "con = sqlite3.connect('example.db')\n",
    "cur = con.cursor()\n",
    "\n",
    "# Create table\n",
    "cur.execute('''CREATE TABLE STOCKS\n",
    "               (DATE TEXT, TRANS TEXT, SYMBOL TEXT, QTY REAL, PRICE REAL)''')\n",
    "\n",
    "# Insert a row of data\n",
    "cur.execute(\"INSERT INTO STOCKS VALUES ('2006-01-05', 'BUY', 'RHAT', 100, 35.14)\")\n",
    "\n",
    "# Save (commit) the changes\n",
    "con.commit()\n",
    "\n",
    "# We can also close the connection if we are done with it.\n",
    "# Just be sure any changes have been committed or they will be lost.\n",
    "con.close()\n"
   ]
  },
  {
   "cell_type": "markdown",
   "metadata": {},
   "source": [
    "#### 2. Selection"
   ]
  },
  {
   "cell_type": "code",
   "execution_count": 4,
   "metadata": {},
   "outputs": [
    {
     "name": "stdout",
     "output_type": "stream",
     "text": [
      "('2006-01-05', 'BUY', 'RHAT', 100.0, 35.14)\n"
     ]
    }
   ],
   "source": [
    "'''\n",
    "https://docs.python.org/ko/3/library/sqlite3.html\n",
    "'''\n",
    "\n",
    "import sqlite3\n",
    "\n",
    "\n",
    "con = sqlite3.connect('example.db')\n",
    "cur = con.cursor()\n",
    "\n",
    "for row in cur.execute('SELECT * FROM STOCKS ORDER BY PRICE'):\n",
    "    print(row)\n"
   ]
  },
  {
   "cell_type": "markdown",
   "metadata": {},
   "source": [
    "#### 3. Database in Memory"
   ]
  },
  {
   "cell_type": "code",
   "execution_count": 8,
   "metadata": {},
   "outputs": [
    {
     "name": "stdout",
     "output_type": "stream",
     "text": [
      "[('C', 1972)]\n"
     ]
    }
   ],
   "source": [
    "'''\n",
    "https://docs.python.org/ko/3/library/sqlite3.html\n",
    "'''\n",
    "\n",
    "import sqlite3\n",
    "\n",
    "\n",
    "con = sqlite3.connect(\":memory:\")\n",
    "cur = con.cursor()\n",
    "\n",
    "cur.execute(\"CREATE TABLE LANG (NAME, FIRST_APPEARED)\")\n",
    "\n",
    "# This is the qmark style:\n",
    "cur.execute(\"INSERT INTO LANG VALUES (?, ?)\", (\"C\", 1972))\n",
    "\n",
    "# The qmark style used with executemany():\n",
    "lang_list = [\n",
    "    (\"Fortran\", 1957),\n",
    "    (\"Python\", 1991),\n",
    "    (\"Go\", 2009),\n",
    "]\n",
    "cur.executemany(\"INSERT INTO LANG VALUES (?, ?)\", lang_list)\n",
    "\n",
    "# And this is the named style:\n",
    "cur.execute(\"SELECT * FROM LANG WHERE FIRST_APPEARED=:year\", {\"year\": 1972})\n",
    "print(cur.fetchall())\n",
    "\n",
    "con.close()\n"
   ]
  },
  {
   "cell_type": "markdown",
   "metadata": {},
   "source": [
    "#### DB - Pandas 연동"
   ]
  },
  {
   "cell_type": "code",
   "execution_count": 10,
   "metadata": {},
   "outputs": [
    {
     "name": "stdout",
     "output_type": "stream",
     "text": [
      "[('C', 1972)]\n"
     ]
    },
    {
     "data": {
      "text/html": [
       "<div>\n",
       "<style scoped>\n",
       "    .dataframe tbody tr th:only-of-type {\n",
       "        vertical-align: middle;\n",
       "    }\n",
       "\n",
       "    .dataframe tbody tr th {\n",
       "        vertical-align: top;\n",
       "    }\n",
       "\n",
       "    .dataframe thead th {\n",
       "        text-align: right;\n",
       "    }\n",
       "</style>\n",
       "<table border=\"1\" class=\"dataframe\">\n",
       "  <thead>\n",
       "    <tr style=\"text-align: right;\">\n",
       "      <th></th>\n",
       "      <th>NAME</th>\n",
       "      <th>FIRST_APPEARED</th>\n",
       "    </tr>\n",
       "  </thead>\n",
       "  <tbody>\n",
       "    <tr>\n",
       "      <th>0</th>\n",
       "      <td>C</td>\n",
       "      <td>1972</td>\n",
       "    </tr>\n",
       "  </tbody>\n",
       "</table>\n",
       "</div>"
      ],
      "text/plain": [
       "  NAME  FIRST_APPEARED\n",
       "0    C            1972"
      ]
     },
     "execution_count": 10,
     "metadata": {},
     "output_type": "execute_result"
    }
   ],
   "source": [
    "'''\n",
    "https://docs.python.org/ko/3/library/sqlite3.html\n",
    "'''\n",
    "\n",
    "import sqlite3\n",
    "import pandas as pd\n",
    "\n",
    "\n",
    "con = sqlite3.connect(\":memory:\")\n",
    "cur = con.cursor()\n",
    "\n",
    "cur.execute(\"CREATE TABLE LANG (NAME, FIRST_APPEARED)\")\n",
    "\n",
    "# This is the qmark style:\n",
    "cur.execute(\"INSERT INTO LANG VALUES (?, ?)\", (\"C\", 1972))\n",
    "\n",
    "# The qmark style used with executemany():\n",
    "lang_list = [\n",
    "    (\"Fortran\", 1957),\n",
    "    (\"Python\", 1991),\n",
    "    (\"Go\", 2009),\n",
    "]\n",
    "cur.executemany(\"INSERT INTO LANG VALUES (?, ?)\", lang_list)\n",
    "\n",
    "# And this is the named style:\n",
    "cur.execute(\"SELECT * FROM LANG WHERE FIRST_APPEARED=:year\", {\"year\": 1972})\n",
    "rows = cur.fetchall()\n",
    "print(rows)\n",
    "\n",
    "df = pd.read_sql(\"SELECT * FROM LANG WHERE FIRST_APPEARED=1972\", con)\n",
    "\n",
    "con.close()\n",
    "\n",
    "df\n"
   ]
  },
  {
   "cell_type": "code",
   "execution_count": null,
   "metadata": {},
   "outputs": [],
   "source": []
  }
 ],
 "metadata": {
  "kernelspec": {
   "display_name": "Python 3",
   "language": "python",
   "name": "python3"
  },
  "language_info": {
   "codemirror_mode": {
    "name": "ipython",
    "version": 3
   },
   "file_extension": ".py",
   "mimetype": "text/x-python",
   "name": "python",
   "nbconvert_exporter": "python",
   "pygments_lexer": "ipython3",
   "version": "3.8.5"
  }
 },
 "nbformat": 4,
 "nbformat_minor": 4
}
